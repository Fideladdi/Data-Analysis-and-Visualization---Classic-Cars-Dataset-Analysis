{
 "cells": [
  {
   "cell_type": "code",
   "execution_count": 1,
   "id": "initial_id",
   "metadata": {
    "collapsed": true,
    "ExecuteTime": {
     "end_time": "2023-11-25T20:35:47.978778800Z",
     "start_time": "2023-11-25T20:35:47.963481800Z"
    }
   },
   "outputs": [],
   "source": [
    "import pandas as pd"
   ]
  },
  {
   "cell_type": "code",
   "execution_count": 2,
   "outputs": [],
   "source": [
    "filename = 'Test1-data.csv'"
   ],
   "metadata": {
    "collapsed": false,
    "ExecuteTime": {
     "end_time": "2023-11-25T20:35:47.997454300Z",
     "start_time": "2023-11-25T20:35:47.976785100Z"
    }
   },
   "id": "e5b72ce9598af90a"
  },
  {
   "cell_type": "code",
   "execution_count": 3,
   "outputs": [],
   "source": [
    "df = pd.read_csv(filename)"
   ],
   "metadata": {
    "collapsed": false,
    "ExecuteTime": {
     "end_time": "2023-11-25T20:35:48.056786200Z",
     "start_time": "2023-11-25T20:35:47.996452300Z"
    }
   },
   "id": "e4e34a79810fb926"
  },
  {
   "cell_type": "code",
   "execution_count": 4,
   "outputs": [
    {
     "data": {
      "text/plain": "                           Car   MPG  Cylinders  Displacement  Horsepower  \\\n0    Chevrolet Chevelle Malibu  18.0          8         307.0       130.0   \n1            Buick Skylark 320  15.0          8         350.0       165.0   \n2           Plymouth Satellite  18.0          8         318.0       150.0   \n3                AMC Rebel SST  16.0          8         304.0       150.0   \n4                  Ford Torino  17.0          8         302.0       140.0   \n..                         ...   ...        ...           ...         ...   \n401            Ford Mustang GL  27.0          4         140.0        86.0   \n402          Volkswagen Pickup  44.0          4          97.0        52.0   \n403              Dodge Rampage  32.0          4         135.0        84.0   \n404                Ford Ranger  28.0          4         120.0        79.0   \n405                 Chevy S-10  31.0          4         119.0        82.0   \n\n     Weight  Acceleration  Model  Origin  \n0      3504          12.0     70      US  \n1      3693          11.5     70      US  \n2      3436          11.0     70      US  \n3      3433          12.0     70      US  \n4      3449          10.5     70      US  \n..      ...           ...    ...     ...  \n401    2790          15.6     82      US  \n402    2130          24.6     82  Europe  \n403    2295          11.6     82      US  \n404    2625          18.6     82      US  \n405    2720          19.4     82      US  \n\n[406 rows x 9 columns]",
      "text/html": "<div>\n<style scoped>\n    .dataframe tbody tr th:only-of-type {\n        vertical-align: middle;\n    }\n\n    .dataframe tbody tr th {\n        vertical-align: top;\n    }\n\n    .dataframe thead th {\n        text-align: right;\n    }\n</style>\n<table border=\"1\" class=\"dataframe\">\n  <thead>\n    <tr style=\"text-align: right;\">\n      <th></th>\n      <th>Car</th>\n      <th>MPG</th>\n      <th>Cylinders</th>\n      <th>Displacement</th>\n      <th>Horsepower</th>\n      <th>Weight</th>\n      <th>Acceleration</th>\n      <th>Model</th>\n      <th>Origin</th>\n    </tr>\n  </thead>\n  <tbody>\n    <tr>\n      <th>0</th>\n      <td>Chevrolet Chevelle Malibu</td>\n      <td>18.0</td>\n      <td>8</td>\n      <td>307.0</td>\n      <td>130.0</td>\n      <td>3504</td>\n      <td>12.0</td>\n      <td>70</td>\n      <td>US</td>\n    </tr>\n    <tr>\n      <th>1</th>\n      <td>Buick Skylark 320</td>\n      <td>15.0</td>\n      <td>8</td>\n      <td>350.0</td>\n      <td>165.0</td>\n      <td>3693</td>\n      <td>11.5</td>\n      <td>70</td>\n      <td>US</td>\n    </tr>\n    <tr>\n      <th>2</th>\n      <td>Plymouth Satellite</td>\n      <td>18.0</td>\n      <td>8</td>\n      <td>318.0</td>\n      <td>150.0</td>\n      <td>3436</td>\n      <td>11.0</td>\n      <td>70</td>\n      <td>US</td>\n    </tr>\n    <tr>\n      <th>3</th>\n      <td>AMC Rebel SST</td>\n      <td>16.0</td>\n      <td>8</td>\n      <td>304.0</td>\n      <td>150.0</td>\n      <td>3433</td>\n      <td>12.0</td>\n      <td>70</td>\n      <td>US</td>\n    </tr>\n    <tr>\n      <th>4</th>\n      <td>Ford Torino</td>\n      <td>17.0</td>\n      <td>8</td>\n      <td>302.0</td>\n      <td>140.0</td>\n      <td>3449</td>\n      <td>10.5</td>\n      <td>70</td>\n      <td>US</td>\n    </tr>\n    <tr>\n      <th>...</th>\n      <td>...</td>\n      <td>...</td>\n      <td>...</td>\n      <td>...</td>\n      <td>...</td>\n      <td>...</td>\n      <td>...</td>\n      <td>...</td>\n      <td>...</td>\n    </tr>\n    <tr>\n      <th>401</th>\n      <td>Ford Mustang GL</td>\n      <td>27.0</td>\n      <td>4</td>\n      <td>140.0</td>\n      <td>86.0</td>\n      <td>2790</td>\n      <td>15.6</td>\n      <td>82</td>\n      <td>US</td>\n    </tr>\n    <tr>\n      <th>402</th>\n      <td>Volkswagen Pickup</td>\n      <td>44.0</td>\n      <td>4</td>\n      <td>97.0</td>\n      <td>52.0</td>\n      <td>2130</td>\n      <td>24.6</td>\n      <td>82</td>\n      <td>Europe</td>\n    </tr>\n    <tr>\n      <th>403</th>\n      <td>Dodge Rampage</td>\n      <td>32.0</td>\n      <td>4</td>\n      <td>135.0</td>\n      <td>84.0</td>\n      <td>2295</td>\n      <td>11.6</td>\n      <td>82</td>\n      <td>US</td>\n    </tr>\n    <tr>\n      <th>404</th>\n      <td>Ford Ranger</td>\n      <td>28.0</td>\n      <td>4</td>\n      <td>120.0</td>\n      <td>79.0</td>\n      <td>2625</td>\n      <td>18.6</td>\n      <td>82</td>\n      <td>US</td>\n    </tr>\n    <tr>\n      <th>405</th>\n      <td>Chevy S-10</td>\n      <td>31.0</td>\n      <td>4</td>\n      <td>119.0</td>\n      <td>82.0</td>\n      <td>2720</td>\n      <td>19.4</td>\n      <td>82</td>\n      <td>US</td>\n    </tr>\n  </tbody>\n</table>\n<p>406 rows × 9 columns</p>\n</div>"
     },
     "execution_count": 4,
     "metadata": {},
     "output_type": "execute_result"
    }
   ],
   "source": [
    "df"
   ],
   "metadata": {
    "collapsed": false,
    "ExecuteTime": {
     "end_time": "2023-11-25T20:35:48.215095700Z",
     "start_time": "2023-11-25T20:35:48.052778500Z"
    }
   },
   "id": "17013eb4ff2a7b40"
  },
  {
   "cell_type": "code",
   "execution_count": 5,
   "outputs": [
    {
     "data": {
      "text/plain": "<bound method DataFrame.info of                            Car   MPG  Cylinders  Displacement  Horsepower  \\\n0    Chevrolet Chevelle Malibu  18.0          8         307.0       130.0   \n1            Buick Skylark 320  15.0          8         350.0       165.0   \n2           Plymouth Satellite  18.0          8         318.0       150.0   \n3                AMC Rebel SST  16.0          8         304.0       150.0   \n4                  Ford Torino  17.0          8         302.0       140.0   \n..                         ...   ...        ...           ...         ...   \n401            Ford Mustang GL  27.0          4         140.0        86.0   \n402          Volkswagen Pickup  44.0          4          97.0        52.0   \n403              Dodge Rampage  32.0          4         135.0        84.0   \n404                Ford Ranger  28.0          4         120.0        79.0   \n405                 Chevy S-10  31.0          4         119.0        82.0   \n\n     Weight  Acceleration  Model  Origin  \n0      3504          12.0     70      US  \n1      3693          11.5     70      US  \n2      3436          11.0     70      US  \n3      3433          12.0     70      US  \n4      3449          10.5     70      US  \n..      ...           ...    ...     ...  \n401    2790          15.6     82      US  \n402    2130          24.6     82  Europe  \n403    2295          11.6     82      US  \n404    2625          18.6     82      US  \n405    2720          19.4     82      US  \n\n[406 rows x 9 columns]>"
     },
     "execution_count": 5,
     "metadata": {},
     "output_type": "execute_result"
    }
   ],
   "source": [
    "df.info"
   ],
   "metadata": {
    "collapsed": false,
    "ExecuteTime": {
     "end_time": "2023-11-25T20:35:48.219274300Z",
     "start_time": "2023-11-25T20:35:48.100897Z"
    }
   },
   "id": "8d5264d591d9a318"
  },
  {
   "cell_type": "code",
   "execution_count": 6,
   "outputs": [
    {
     "data": {
      "text/plain": "(406, 9)"
     },
     "execution_count": 6,
     "metadata": {},
     "output_type": "execute_result"
    }
   ],
   "source": [
    "df.shape"
   ],
   "metadata": {
    "collapsed": false,
    "ExecuteTime": {
     "end_time": "2023-11-25T20:35:48.234823900Z",
     "start_time": "2023-11-25T20:35:48.133746600Z"
    }
   },
   "id": "b9d8290c467ecd56"
  },
  {
   "cell_type": "code",
   "execution_count": 7,
   "outputs": [
    {
     "data": {
      "text/plain": "Car             0\nMPG             0\nCylinders       0\nDisplacement    0\nHorsepower      0\nWeight          0\nAcceleration    0\nModel           0\nOrigin          0\ndtype: int64"
     },
     "execution_count": 7,
     "metadata": {},
     "output_type": "execute_result"
    }
   ],
   "source": [
    "df.isna().sum()"
   ],
   "metadata": {
    "collapsed": false,
    "ExecuteTime": {
     "end_time": "2023-11-25T20:35:48.236848700Z",
     "start_time": "2023-11-25T20:35:48.148419300Z"
    }
   },
   "id": "622bde669384ed96"
  },
  {
   "cell_type": "markdown",
   "source": [
    "# Q1. One way to measure engine efficiency is to determine its fuel economy. Based on year of production, what year\n",
    "# was the most efficient engine produced?"
   ],
   "metadata": {
    "collapsed": false
   },
   "id": "d23498ce4cb2d93a"
  },
  {
   "cell_type": "code",
   "execution_count": 8,
   "outputs": [
    {
     "data": {
      "text/plain": "Model\n70    27.0\n71    35.0\n72    28.0\n73    29.0\n74    32.0\n75    33.0\n76    33.0\n77    36.0\n78    43.1\n79    37.3\n80    46.6\n81    39.1\n82    44.0\nName: MPG, dtype: float64"
     },
     "execution_count": 8,
     "metadata": {},
     "output_type": "execute_result"
    }
   ],
   "source": [
    "# Grouping by the Model year and calculating the max MPG for each year\n",
    "average_mpg = df.groupby('Model')['MPG'].max()\n",
    "average_mpg"
   ],
   "metadata": {
    "collapsed": false,
    "ExecuteTime": {
     "end_time": "2023-11-25T20:35:48.258398800Z",
     "start_time": "2023-11-25T20:35:48.163231100Z"
    }
   },
   "id": "fbaaeca1132f1f7e"
  },
  {
   "cell_type": "code",
   "execution_count": 9,
   "outputs": [
    {
     "name": "stdout",
     "output_type": "stream",
     "text": [
      "The most efficient engine year based on fuel economy was: 80 with 46.6\n"
     ]
    }
   ],
   "source": [
    "# Finding the year with the highest max MPG\n",
    "most_efficient_year = average_mpg.idxmax()\n",
    "\n",
    "# Finding the year with the highest index max MPG\n",
    "most_efficient_mpg = average_mpg.loc[most_efficient_year]\n",
    "\n",
    "print(f\"The most efficient engine year based on fuel economy was: {most_efficient_year} with {most_efficient_mpg}\")"
   ],
   "metadata": {
    "collapsed": false,
    "ExecuteTime": {
     "end_time": "2023-11-25T20:35:48.385319700Z",
     "start_time": "2023-11-25T20:35:48.196346600Z"
    }
   },
   "id": "69331be3bd069a5b"
  },
  {
   "cell_type": "markdown",
   "source": [
    "# Q2. Another way to measure engine efficiency is to calculate the amount of power the engine produces based on its displacement. This is calculated by dividing the horsepower rating of the car by the displacement with the answer being measured in hp/in3. Based on the country of origin, which region produces the most efficient engine?"
   ],
   "metadata": {
    "collapsed": false
   },
   "id": "dd0e8ff84bd13dff"
  },
  {
   "cell_type": "code",
   "execution_count": 10,
   "outputs": [
    {
     "data": {
      "text/plain": "                           Car   MPG  Cylinders  Displacement  Horsepower  \\\n0    Chevrolet Chevelle Malibu  18.0          8         307.0       130.0   \n1            Buick Skylark 320  15.0          8         350.0       165.0   \n2           Plymouth Satellite  18.0          8         318.0       150.0   \n3                AMC Rebel SST  16.0          8         304.0       150.0   \n4                  Ford Torino  17.0          8         302.0       140.0   \n..                         ...   ...        ...           ...         ...   \n401            Ford Mustang GL  27.0          4         140.0        86.0   \n402          Volkswagen Pickup  44.0          4          97.0        52.0   \n403              Dodge Rampage  32.0          4         135.0        84.0   \n404                Ford Ranger  28.0          4         120.0        79.0   \n405                 Chevy S-10  31.0          4         119.0        82.0   \n\n     Weight  Acceleration  Model  Origin  \n0      3504          12.0     70      US  \n1      3693          11.5     70      US  \n2      3436          11.0     70      US  \n3      3433          12.0     70      US  \n4      3449          10.5     70      US  \n..      ...           ...    ...     ...  \n401    2790          15.6     82      US  \n402    2130          24.6     82  Europe  \n403    2295          11.6     82      US  \n404    2625          18.6     82      US  \n405    2720          19.4     82      US  \n\n[406 rows x 9 columns]",
      "text/html": "<div>\n<style scoped>\n    .dataframe tbody tr th:only-of-type {\n        vertical-align: middle;\n    }\n\n    .dataframe tbody tr th {\n        vertical-align: top;\n    }\n\n    .dataframe thead th {\n        text-align: right;\n    }\n</style>\n<table border=\"1\" class=\"dataframe\">\n  <thead>\n    <tr style=\"text-align: right;\">\n      <th></th>\n      <th>Car</th>\n      <th>MPG</th>\n      <th>Cylinders</th>\n      <th>Displacement</th>\n      <th>Horsepower</th>\n      <th>Weight</th>\n      <th>Acceleration</th>\n      <th>Model</th>\n      <th>Origin</th>\n    </tr>\n  </thead>\n  <tbody>\n    <tr>\n      <th>0</th>\n      <td>Chevrolet Chevelle Malibu</td>\n      <td>18.0</td>\n      <td>8</td>\n      <td>307.0</td>\n      <td>130.0</td>\n      <td>3504</td>\n      <td>12.0</td>\n      <td>70</td>\n      <td>US</td>\n    </tr>\n    <tr>\n      <th>1</th>\n      <td>Buick Skylark 320</td>\n      <td>15.0</td>\n      <td>8</td>\n      <td>350.0</td>\n      <td>165.0</td>\n      <td>3693</td>\n      <td>11.5</td>\n      <td>70</td>\n      <td>US</td>\n    </tr>\n    <tr>\n      <th>2</th>\n      <td>Plymouth Satellite</td>\n      <td>18.0</td>\n      <td>8</td>\n      <td>318.0</td>\n      <td>150.0</td>\n      <td>3436</td>\n      <td>11.0</td>\n      <td>70</td>\n      <td>US</td>\n    </tr>\n    <tr>\n      <th>3</th>\n      <td>AMC Rebel SST</td>\n      <td>16.0</td>\n      <td>8</td>\n      <td>304.0</td>\n      <td>150.0</td>\n      <td>3433</td>\n      <td>12.0</td>\n      <td>70</td>\n      <td>US</td>\n    </tr>\n    <tr>\n      <th>4</th>\n      <td>Ford Torino</td>\n      <td>17.0</td>\n      <td>8</td>\n      <td>302.0</td>\n      <td>140.0</td>\n      <td>3449</td>\n      <td>10.5</td>\n      <td>70</td>\n      <td>US</td>\n    </tr>\n    <tr>\n      <th>...</th>\n      <td>...</td>\n      <td>...</td>\n      <td>...</td>\n      <td>...</td>\n      <td>...</td>\n      <td>...</td>\n      <td>...</td>\n      <td>...</td>\n      <td>...</td>\n    </tr>\n    <tr>\n      <th>401</th>\n      <td>Ford Mustang GL</td>\n      <td>27.0</td>\n      <td>4</td>\n      <td>140.0</td>\n      <td>86.0</td>\n      <td>2790</td>\n      <td>15.6</td>\n      <td>82</td>\n      <td>US</td>\n    </tr>\n    <tr>\n      <th>402</th>\n      <td>Volkswagen Pickup</td>\n      <td>44.0</td>\n      <td>4</td>\n      <td>97.0</td>\n      <td>52.0</td>\n      <td>2130</td>\n      <td>24.6</td>\n      <td>82</td>\n      <td>Europe</td>\n    </tr>\n    <tr>\n      <th>403</th>\n      <td>Dodge Rampage</td>\n      <td>32.0</td>\n      <td>4</td>\n      <td>135.0</td>\n      <td>84.0</td>\n      <td>2295</td>\n      <td>11.6</td>\n      <td>82</td>\n      <td>US</td>\n    </tr>\n    <tr>\n      <th>404</th>\n      <td>Ford Ranger</td>\n      <td>28.0</td>\n      <td>4</td>\n      <td>120.0</td>\n      <td>79.0</td>\n      <td>2625</td>\n      <td>18.6</td>\n      <td>82</td>\n      <td>US</td>\n    </tr>\n    <tr>\n      <th>405</th>\n      <td>Chevy S-10</td>\n      <td>31.0</td>\n      <td>4</td>\n      <td>119.0</td>\n      <td>82.0</td>\n      <td>2720</td>\n      <td>19.4</td>\n      <td>82</td>\n      <td>US</td>\n    </tr>\n  </tbody>\n</table>\n<p>406 rows × 9 columns</p>\n</div>"
     },
     "execution_count": 10,
     "metadata": {},
     "output_type": "execute_result"
    }
   ],
   "source": [
    "df"
   ],
   "metadata": {
    "collapsed": false,
    "ExecuteTime": {
     "end_time": "2023-11-25T20:35:48.699871800Z",
     "start_time": "2023-11-25T20:35:48.224291800Z"
    }
   },
   "id": "ed700eb9406d135d"
  },
  {
   "cell_type": "code",
   "execution_count": 11,
   "outputs": [
    {
     "data": {
      "text/plain": "0      0.423453\n1      0.471429\n2      0.471698\n3      0.493421\n4      0.463576\n         ...   \n401    0.614286\n402    0.536082\n403    0.622222\n404    0.658333\n405    0.689076\nLength: 406, dtype: float64"
     },
     "execution_count": 11,
     "metadata": {},
     "output_type": "execute_result"
    }
   ],
   "source": [
    "# Calculating the engine efficiency\n",
    "df['Horsepower']/ df['Displacement']"
   ],
   "metadata": {
    "collapsed": false,
    "ExecuteTime": {
     "end_time": "2023-11-25T20:35:48.731184300Z",
     "start_time": "2023-11-25T20:35:48.256385400Z"
    }
   },
   "id": "ef5f53170835eda0"
  },
  {
   "cell_type": "code",
   "execution_count": 12,
   "outputs": [],
   "source": [
    "df['engine_efficiency'] = (df['Horsepower']/ df['Displacement']).round(2)"
   ],
   "metadata": {
    "collapsed": false,
    "ExecuteTime": {
     "end_time": "2023-11-25T20:35:48.751789100Z",
     "start_time": "2023-11-25T20:35:48.278945800Z"
    }
   },
   "id": "f71cb5b45737f09a"
  },
  {
   "cell_type": "code",
   "execution_count": 13,
   "outputs": [
    {
     "data": {
      "text/plain": "                           Car   MPG  Cylinders  Displacement  Horsepower  \\\n0    Chevrolet Chevelle Malibu  18.0          8         307.0       130.0   \n1            Buick Skylark 320  15.0          8         350.0       165.0   \n2           Plymouth Satellite  18.0          8         318.0       150.0   \n3                AMC Rebel SST  16.0          8         304.0       150.0   \n4                  Ford Torino  17.0          8         302.0       140.0   \n..                         ...   ...        ...           ...         ...   \n401            Ford Mustang GL  27.0          4         140.0        86.0   \n402          Volkswagen Pickup  44.0          4          97.0        52.0   \n403              Dodge Rampage  32.0          4         135.0        84.0   \n404                Ford Ranger  28.0          4         120.0        79.0   \n405                 Chevy S-10  31.0          4         119.0        82.0   \n\n     Weight  Acceleration  Model  Origin  engine_efficiency  \n0      3504          12.0     70      US               0.42  \n1      3693          11.5     70      US               0.47  \n2      3436          11.0     70      US               0.47  \n3      3433          12.0     70      US               0.49  \n4      3449          10.5     70      US               0.46  \n..      ...           ...    ...     ...                ...  \n401    2790          15.6     82      US               0.61  \n402    2130          24.6     82  Europe               0.54  \n403    2295          11.6     82      US               0.62  \n404    2625          18.6     82      US               0.66  \n405    2720          19.4     82      US               0.69  \n\n[406 rows x 10 columns]",
      "text/html": "<div>\n<style scoped>\n    .dataframe tbody tr th:only-of-type {\n        vertical-align: middle;\n    }\n\n    .dataframe tbody tr th {\n        vertical-align: top;\n    }\n\n    .dataframe thead th {\n        text-align: right;\n    }\n</style>\n<table border=\"1\" class=\"dataframe\">\n  <thead>\n    <tr style=\"text-align: right;\">\n      <th></th>\n      <th>Car</th>\n      <th>MPG</th>\n      <th>Cylinders</th>\n      <th>Displacement</th>\n      <th>Horsepower</th>\n      <th>Weight</th>\n      <th>Acceleration</th>\n      <th>Model</th>\n      <th>Origin</th>\n      <th>engine_efficiency</th>\n    </tr>\n  </thead>\n  <tbody>\n    <tr>\n      <th>0</th>\n      <td>Chevrolet Chevelle Malibu</td>\n      <td>18.0</td>\n      <td>8</td>\n      <td>307.0</td>\n      <td>130.0</td>\n      <td>3504</td>\n      <td>12.0</td>\n      <td>70</td>\n      <td>US</td>\n      <td>0.42</td>\n    </tr>\n    <tr>\n      <th>1</th>\n      <td>Buick Skylark 320</td>\n      <td>15.0</td>\n      <td>8</td>\n      <td>350.0</td>\n      <td>165.0</td>\n      <td>3693</td>\n      <td>11.5</td>\n      <td>70</td>\n      <td>US</td>\n      <td>0.47</td>\n    </tr>\n    <tr>\n      <th>2</th>\n      <td>Plymouth Satellite</td>\n      <td>18.0</td>\n      <td>8</td>\n      <td>318.0</td>\n      <td>150.0</td>\n      <td>3436</td>\n      <td>11.0</td>\n      <td>70</td>\n      <td>US</td>\n      <td>0.47</td>\n    </tr>\n    <tr>\n      <th>3</th>\n      <td>AMC Rebel SST</td>\n      <td>16.0</td>\n      <td>8</td>\n      <td>304.0</td>\n      <td>150.0</td>\n      <td>3433</td>\n      <td>12.0</td>\n      <td>70</td>\n      <td>US</td>\n      <td>0.49</td>\n    </tr>\n    <tr>\n      <th>4</th>\n      <td>Ford Torino</td>\n      <td>17.0</td>\n      <td>8</td>\n      <td>302.0</td>\n      <td>140.0</td>\n      <td>3449</td>\n      <td>10.5</td>\n      <td>70</td>\n      <td>US</td>\n      <td>0.46</td>\n    </tr>\n    <tr>\n      <th>...</th>\n      <td>...</td>\n      <td>...</td>\n      <td>...</td>\n      <td>...</td>\n      <td>...</td>\n      <td>...</td>\n      <td>...</td>\n      <td>...</td>\n      <td>...</td>\n      <td>...</td>\n    </tr>\n    <tr>\n      <th>401</th>\n      <td>Ford Mustang GL</td>\n      <td>27.0</td>\n      <td>4</td>\n      <td>140.0</td>\n      <td>86.0</td>\n      <td>2790</td>\n      <td>15.6</td>\n      <td>82</td>\n      <td>US</td>\n      <td>0.61</td>\n    </tr>\n    <tr>\n      <th>402</th>\n      <td>Volkswagen Pickup</td>\n      <td>44.0</td>\n      <td>4</td>\n      <td>97.0</td>\n      <td>52.0</td>\n      <td>2130</td>\n      <td>24.6</td>\n      <td>82</td>\n      <td>Europe</td>\n      <td>0.54</td>\n    </tr>\n    <tr>\n      <th>403</th>\n      <td>Dodge Rampage</td>\n      <td>32.0</td>\n      <td>4</td>\n      <td>135.0</td>\n      <td>84.0</td>\n      <td>2295</td>\n      <td>11.6</td>\n      <td>82</td>\n      <td>US</td>\n      <td>0.62</td>\n    </tr>\n    <tr>\n      <th>404</th>\n      <td>Ford Ranger</td>\n      <td>28.0</td>\n      <td>4</td>\n      <td>120.0</td>\n      <td>79.0</td>\n      <td>2625</td>\n      <td>18.6</td>\n      <td>82</td>\n      <td>US</td>\n      <td>0.66</td>\n    </tr>\n    <tr>\n      <th>405</th>\n      <td>Chevy S-10</td>\n      <td>31.0</td>\n      <td>4</td>\n      <td>119.0</td>\n      <td>82.0</td>\n      <td>2720</td>\n      <td>19.4</td>\n      <td>82</td>\n      <td>US</td>\n      <td>0.69</td>\n    </tr>\n  </tbody>\n</table>\n<p>406 rows × 10 columns</p>\n</div>"
     },
     "execution_count": 13,
     "metadata": {},
     "output_type": "execute_result"
    }
   ],
   "source": [
    "df"
   ],
   "metadata": {
    "collapsed": false,
    "ExecuteTime": {
     "end_time": "2023-11-25T20:35:48.758807600Z",
     "start_time": "2023-11-25T20:35:48.319864900Z"
    }
   },
   "id": "1bf5930a5f2e92c9"
  },
  {
   "cell_type": "code",
   "execution_count": 14,
   "outputs": [
    {
     "data": {
      "text/plain": "Origin\nEurope    0.95\nJapan     1.43\nUS        0.85\nName: engine_efficiency, dtype: float64"
     },
     "execution_count": 14,
     "metadata": {},
     "output_type": "execute_result"
    }
   ],
   "source": [
    "most_efficient_origin = df.groupby('Origin')['engine_efficiency'].max()\n",
    "most_efficient_origin"
   ],
   "metadata": {
    "collapsed": false,
    "ExecuteTime": {
     "end_time": "2023-11-25T20:35:48.760808400Z",
     "start_time": "2023-11-25T20:35:48.331638600Z"
    }
   },
   "id": "32626323f7075846"
  },
  {
   "cell_type": "code",
   "execution_count": 15,
   "outputs": [
    {
     "name": "stdout",
     "output_type": "stream",
     "text": [
      "The most efficient origin based on engine efficiency was: Japan with a value of 1.43\n"
     ]
    }
   ],
   "source": [
    "most_efficient_region = most_efficient_origin.idxmax()\n",
    "value = most_efficient_origin.max()\n",
    "\n",
    "print(f\"The most efficient origin based on engine efficiency was: {most_efficient_region} with a value of {value}\")"
   ],
   "metadata": {
    "collapsed": false,
    "ExecuteTime": {
     "end_time": "2023-11-25T20:35:48.761809300Z",
     "start_time": "2023-11-25T20:35:48.367266900Z"
    }
   },
   "id": "a492e8b1592192a4"
  },
  {
   "cell_type": "markdown",
   "source": [
    "# Q3. Based on country of origin, what sized engine based on cylinder count is the most popular?"
   ],
   "metadata": {
    "collapsed": false
   },
   "id": "9855fe13214bd405"
  },
  {
   "cell_type": "code",
   "execution_count": 16,
   "outputs": [
    {
     "data": {
      "text/plain": "                           Car   MPG  Cylinders  Displacement  Horsepower  \\\n0    Chevrolet Chevelle Malibu  18.0          8         307.0       130.0   \n1            Buick Skylark 320  15.0          8         350.0       165.0   \n2           Plymouth Satellite  18.0          8         318.0       150.0   \n3                AMC Rebel SST  16.0          8         304.0       150.0   \n4                  Ford Torino  17.0          8         302.0       140.0   \n..                         ...   ...        ...           ...         ...   \n401            Ford Mustang GL  27.0          4         140.0        86.0   \n402          Volkswagen Pickup  44.0          4          97.0        52.0   \n403              Dodge Rampage  32.0          4         135.0        84.0   \n404                Ford Ranger  28.0          4         120.0        79.0   \n405                 Chevy S-10  31.0          4         119.0        82.0   \n\n     Weight  Acceleration  Model  Origin  engine_efficiency  \n0      3504          12.0     70      US               0.42  \n1      3693          11.5     70      US               0.47  \n2      3436          11.0     70      US               0.47  \n3      3433          12.0     70      US               0.49  \n4      3449          10.5     70      US               0.46  \n..      ...           ...    ...     ...                ...  \n401    2790          15.6     82      US               0.61  \n402    2130          24.6     82  Europe               0.54  \n403    2295          11.6     82      US               0.62  \n404    2625          18.6     82      US               0.66  \n405    2720          19.4     82      US               0.69  \n\n[406 rows x 10 columns]",
      "text/html": "<div>\n<style scoped>\n    .dataframe tbody tr th:only-of-type {\n        vertical-align: middle;\n    }\n\n    .dataframe tbody tr th {\n        vertical-align: top;\n    }\n\n    .dataframe thead th {\n        text-align: right;\n    }\n</style>\n<table border=\"1\" class=\"dataframe\">\n  <thead>\n    <tr style=\"text-align: right;\">\n      <th></th>\n      <th>Car</th>\n      <th>MPG</th>\n      <th>Cylinders</th>\n      <th>Displacement</th>\n      <th>Horsepower</th>\n      <th>Weight</th>\n      <th>Acceleration</th>\n      <th>Model</th>\n      <th>Origin</th>\n      <th>engine_efficiency</th>\n    </tr>\n  </thead>\n  <tbody>\n    <tr>\n      <th>0</th>\n      <td>Chevrolet Chevelle Malibu</td>\n      <td>18.0</td>\n      <td>8</td>\n      <td>307.0</td>\n      <td>130.0</td>\n      <td>3504</td>\n      <td>12.0</td>\n      <td>70</td>\n      <td>US</td>\n      <td>0.42</td>\n    </tr>\n    <tr>\n      <th>1</th>\n      <td>Buick Skylark 320</td>\n      <td>15.0</td>\n      <td>8</td>\n      <td>350.0</td>\n      <td>165.0</td>\n      <td>3693</td>\n      <td>11.5</td>\n      <td>70</td>\n      <td>US</td>\n      <td>0.47</td>\n    </tr>\n    <tr>\n      <th>2</th>\n      <td>Plymouth Satellite</td>\n      <td>18.0</td>\n      <td>8</td>\n      <td>318.0</td>\n      <td>150.0</td>\n      <td>3436</td>\n      <td>11.0</td>\n      <td>70</td>\n      <td>US</td>\n      <td>0.47</td>\n    </tr>\n    <tr>\n      <th>3</th>\n      <td>AMC Rebel SST</td>\n      <td>16.0</td>\n      <td>8</td>\n      <td>304.0</td>\n      <td>150.0</td>\n      <td>3433</td>\n      <td>12.0</td>\n      <td>70</td>\n      <td>US</td>\n      <td>0.49</td>\n    </tr>\n    <tr>\n      <th>4</th>\n      <td>Ford Torino</td>\n      <td>17.0</td>\n      <td>8</td>\n      <td>302.0</td>\n      <td>140.0</td>\n      <td>3449</td>\n      <td>10.5</td>\n      <td>70</td>\n      <td>US</td>\n      <td>0.46</td>\n    </tr>\n    <tr>\n      <th>...</th>\n      <td>...</td>\n      <td>...</td>\n      <td>...</td>\n      <td>...</td>\n      <td>...</td>\n      <td>...</td>\n      <td>...</td>\n      <td>...</td>\n      <td>...</td>\n      <td>...</td>\n    </tr>\n    <tr>\n      <th>401</th>\n      <td>Ford Mustang GL</td>\n      <td>27.0</td>\n      <td>4</td>\n      <td>140.0</td>\n      <td>86.0</td>\n      <td>2790</td>\n      <td>15.6</td>\n      <td>82</td>\n      <td>US</td>\n      <td>0.61</td>\n    </tr>\n    <tr>\n      <th>402</th>\n      <td>Volkswagen Pickup</td>\n      <td>44.0</td>\n      <td>4</td>\n      <td>97.0</td>\n      <td>52.0</td>\n      <td>2130</td>\n      <td>24.6</td>\n      <td>82</td>\n      <td>Europe</td>\n      <td>0.54</td>\n    </tr>\n    <tr>\n      <th>403</th>\n      <td>Dodge Rampage</td>\n      <td>32.0</td>\n      <td>4</td>\n      <td>135.0</td>\n      <td>84.0</td>\n      <td>2295</td>\n      <td>11.6</td>\n      <td>82</td>\n      <td>US</td>\n      <td>0.62</td>\n    </tr>\n    <tr>\n      <th>404</th>\n      <td>Ford Ranger</td>\n      <td>28.0</td>\n      <td>4</td>\n      <td>120.0</td>\n      <td>79.0</td>\n      <td>2625</td>\n      <td>18.6</td>\n      <td>82</td>\n      <td>US</td>\n      <td>0.66</td>\n    </tr>\n    <tr>\n      <th>405</th>\n      <td>Chevy S-10</td>\n      <td>31.0</td>\n      <td>4</td>\n      <td>119.0</td>\n      <td>82.0</td>\n      <td>2720</td>\n      <td>19.4</td>\n      <td>82</td>\n      <td>US</td>\n      <td>0.69</td>\n    </tr>\n  </tbody>\n</table>\n<p>406 rows × 10 columns</p>\n</div>"
     },
     "execution_count": 16,
     "metadata": {},
     "output_type": "execute_result"
    }
   ],
   "source": [
    "df"
   ],
   "metadata": {
    "collapsed": false,
    "ExecuteTime": {
     "end_time": "2023-11-25T20:35:48.795731600Z",
     "start_time": "2023-11-25T20:35:48.378370400Z"
    }
   },
   "id": "95c75e45893f943b"
  },
  {
   "cell_type": "code",
   "execution_count": 17,
   "outputs": [
    {
     "data": {
      "text/plain": "Origin\nEurope     73\nJapan      79\nUS        254\nName: Cylinders, dtype: int64"
     },
     "execution_count": 17,
     "metadata": {},
     "output_type": "execute_result"
    }
   ],
   "source": [
    "cylinder_count = df.groupby('Origin')['Cylinders'].count()\n",
    "cylinder_count"
   ],
   "metadata": {
    "collapsed": false,
    "ExecuteTime": {
     "end_time": "2023-11-25T20:35:48.943012900Z",
     "start_time": "2023-11-25T20:35:48.411642800Z"
    }
   },
   "id": "da3f6bbb8ed2532a"
  },
  {
   "cell_type": "code",
   "execution_count": 18,
   "outputs": [
    {
     "name": "stdout",
     "output_type": "stream",
     "text": [
      "The most efficient origin based on cylinder count was: US\n"
     ]
    }
   ],
   "source": [
    "most_cylinder_count = cylinder_count.idxmax()\n",
    "\n",
    "print(f\"The most efficient origin based on cylinder count was: {most_cylinder_count}\")"
   ],
   "metadata": {
    "collapsed": false,
    "ExecuteTime": {
     "end_time": "2023-11-25T20:35:48.968200500Z",
     "start_time": "2023-11-25T20:35:48.444763600Z"
    }
   },
   "id": "691c049df677bcdd"
  },
  {
   "cell_type": "code",
   "execution_count": 19,
   "outputs": [
    {
     "data": {
      "text/plain": "                           Car   MPG  Cylinders  Displacement  Horsepower  \\\n0    Chevrolet Chevelle Malibu  18.0          8         307.0       130.0   \n1            Buick Skylark 320  15.0          8         350.0       165.0   \n2           Plymouth Satellite  18.0          8         318.0       150.0   \n3                AMC Rebel SST  16.0          8         304.0       150.0   \n4                  Ford Torino  17.0          8         302.0       140.0   \n..                         ...   ...        ...           ...         ...   \n401            Ford Mustang GL  27.0          4         140.0        86.0   \n402          Volkswagen Pickup  44.0          4          97.0        52.0   \n403              Dodge Rampage  32.0          4         135.0        84.0   \n404                Ford Ranger  28.0          4         120.0        79.0   \n405                 Chevy S-10  31.0          4         119.0        82.0   \n\n     Weight  Acceleration  Model  Origin  engine_efficiency  \n0      3504          12.0     70      US               0.42  \n1      3693          11.5     70      US               0.47  \n2      3436          11.0     70      US               0.47  \n3      3433          12.0     70      US               0.49  \n4      3449          10.5     70      US               0.46  \n..      ...           ...    ...     ...                ...  \n401    2790          15.6     82      US               0.61  \n402    2130          24.6     82  Europe               0.54  \n403    2295          11.6     82      US               0.62  \n404    2625          18.6     82      US               0.66  \n405    2720          19.4     82      US               0.69  \n\n[406 rows x 10 columns]",
      "text/html": "<div>\n<style scoped>\n    .dataframe tbody tr th:only-of-type {\n        vertical-align: middle;\n    }\n\n    .dataframe tbody tr th {\n        vertical-align: top;\n    }\n\n    .dataframe thead th {\n        text-align: right;\n    }\n</style>\n<table border=\"1\" class=\"dataframe\">\n  <thead>\n    <tr style=\"text-align: right;\">\n      <th></th>\n      <th>Car</th>\n      <th>MPG</th>\n      <th>Cylinders</th>\n      <th>Displacement</th>\n      <th>Horsepower</th>\n      <th>Weight</th>\n      <th>Acceleration</th>\n      <th>Model</th>\n      <th>Origin</th>\n      <th>engine_efficiency</th>\n    </tr>\n  </thead>\n  <tbody>\n    <tr>\n      <th>0</th>\n      <td>Chevrolet Chevelle Malibu</td>\n      <td>18.0</td>\n      <td>8</td>\n      <td>307.0</td>\n      <td>130.0</td>\n      <td>3504</td>\n      <td>12.0</td>\n      <td>70</td>\n      <td>US</td>\n      <td>0.42</td>\n    </tr>\n    <tr>\n      <th>1</th>\n      <td>Buick Skylark 320</td>\n      <td>15.0</td>\n      <td>8</td>\n      <td>350.0</td>\n      <td>165.0</td>\n      <td>3693</td>\n      <td>11.5</td>\n      <td>70</td>\n      <td>US</td>\n      <td>0.47</td>\n    </tr>\n    <tr>\n      <th>2</th>\n      <td>Plymouth Satellite</td>\n      <td>18.0</td>\n      <td>8</td>\n      <td>318.0</td>\n      <td>150.0</td>\n      <td>3436</td>\n      <td>11.0</td>\n      <td>70</td>\n      <td>US</td>\n      <td>0.47</td>\n    </tr>\n    <tr>\n      <th>3</th>\n      <td>AMC Rebel SST</td>\n      <td>16.0</td>\n      <td>8</td>\n      <td>304.0</td>\n      <td>150.0</td>\n      <td>3433</td>\n      <td>12.0</td>\n      <td>70</td>\n      <td>US</td>\n      <td>0.49</td>\n    </tr>\n    <tr>\n      <th>4</th>\n      <td>Ford Torino</td>\n      <td>17.0</td>\n      <td>8</td>\n      <td>302.0</td>\n      <td>140.0</td>\n      <td>3449</td>\n      <td>10.5</td>\n      <td>70</td>\n      <td>US</td>\n      <td>0.46</td>\n    </tr>\n    <tr>\n      <th>...</th>\n      <td>...</td>\n      <td>...</td>\n      <td>...</td>\n      <td>...</td>\n      <td>...</td>\n      <td>...</td>\n      <td>...</td>\n      <td>...</td>\n      <td>...</td>\n      <td>...</td>\n    </tr>\n    <tr>\n      <th>401</th>\n      <td>Ford Mustang GL</td>\n      <td>27.0</td>\n      <td>4</td>\n      <td>140.0</td>\n      <td>86.0</td>\n      <td>2790</td>\n      <td>15.6</td>\n      <td>82</td>\n      <td>US</td>\n      <td>0.61</td>\n    </tr>\n    <tr>\n      <th>402</th>\n      <td>Volkswagen Pickup</td>\n      <td>44.0</td>\n      <td>4</td>\n      <td>97.0</td>\n      <td>52.0</td>\n      <td>2130</td>\n      <td>24.6</td>\n      <td>82</td>\n      <td>Europe</td>\n      <td>0.54</td>\n    </tr>\n    <tr>\n      <th>403</th>\n      <td>Dodge Rampage</td>\n      <td>32.0</td>\n      <td>4</td>\n      <td>135.0</td>\n      <td>84.0</td>\n      <td>2295</td>\n      <td>11.6</td>\n      <td>82</td>\n      <td>US</td>\n      <td>0.62</td>\n    </tr>\n    <tr>\n      <th>404</th>\n      <td>Ford Ranger</td>\n      <td>28.0</td>\n      <td>4</td>\n      <td>120.0</td>\n      <td>79.0</td>\n      <td>2625</td>\n      <td>18.6</td>\n      <td>82</td>\n      <td>US</td>\n      <td>0.66</td>\n    </tr>\n    <tr>\n      <th>405</th>\n      <td>Chevy S-10</td>\n      <td>31.0</td>\n      <td>4</td>\n      <td>119.0</td>\n      <td>82.0</td>\n      <td>2720</td>\n      <td>19.4</td>\n      <td>82</td>\n      <td>US</td>\n      <td>0.69</td>\n    </tr>\n  </tbody>\n</table>\n<p>406 rows × 10 columns</p>\n</div>"
     },
     "execution_count": 19,
     "metadata": {},
     "output_type": "execute_result"
    }
   ],
   "source": [
    "df"
   ],
   "metadata": {
    "collapsed": false,
    "ExecuteTime": {
     "end_time": "2023-11-25T20:35:48.971194300Z",
     "start_time": "2023-11-25T20:35:48.458205900Z"
    }
   },
   "id": "131bcc71c7c67bb7"
  },
  {
   "cell_type": "code",
   "execution_count": 20,
   "outputs": [
    {
     "data": {
      "text/plain": "array([8, 4, 6, 3, 5], dtype=int64)"
     },
     "execution_count": 20,
     "metadata": {},
     "output_type": "execute_result"
    }
   ],
   "source": [
    "df['Cylinders'].unique()"
   ],
   "metadata": {
    "collapsed": false,
    "ExecuteTime": {
     "end_time": "2023-11-25T20:35:48.972703900Z",
     "start_time": "2023-11-25T20:35:48.491030500Z"
    }
   },
   "id": "745851a3bef0d98b"
  },
  {
   "cell_type": "code",
   "execution_count": 21,
   "outputs": [],
   "source": [
    "#new_df = df.groupby(['Origin','Cylinders'])['Cylinders'].count().unstack().fillna(0)\n",
    "#new_df"
   ],
   "metadata": {
    "collapsed": false,
    "ExecuteTime": {
     "end_time": "2023-11-25T20:35:48.973716300Z",
     "start_time": "2023-11-25T20:35:48.504731900Z"
    }
   },
   "id": "31339eb3d4a1734c"
  },
  {
   "cell_type": "code",
   "execution_count": 22,
   "outputs": [
    {
     "data": {
      "text/plain": "Cylinders  3   4  5   6    8\nOrigin                      \nEurope     0  66  3   4    0\nJapan      4  69  0   6    0\nUS         0  72  0  74  108",
      "text/html": "<div>\n<style scoped>\n    .dataframe tbody tr th:only-of-type {\n        vertical-align: middle;\n    }\n\n    .dataframe tbody tr th {\n        vertical-align: top;\n    }\n\n    .dataframe thead th {\n        text-align: right;\n    }\n</style>\n<table border=\"1\" class=\"dataframe\">\n  <thead>\n    <tr style=\"text-align: right;\">\n      <th>Cylinders</th>\n      <th>3</th>\n      <th>4</th>\n      <th>5</th>\n      <th>6</th>\n      <th>8</th>\n    </tr>\n    <tr>\n      <th>Origin</th>\n      <th></th>\n      <th></th>\n      <th></th>\n      <th></th>\n      <th></th>\n    </tr>\n  </thead>\n  <tbody>\n    <tr>\n      <th>Europe</th>\n      <td>0</td>\n      <td>66</td>\n      <td>3</td>\n      <td>4</td>\n      <td>0</td>\n    </tr>\n    <tr>\n      <th>Japan</th>\n      <td>4</td>\n      <td>69</td>\n      <td>0</td>\n      <td>6</td>\n      <td>0</td>\n    </tr>\n    <tr>\n      <th>US</th>\n      <td>0</td>\n      <td>72</td>\n      <td>0</td>\n      <td>74</td>\n      <td>108</td>\n    </tr>\n  </tbody>\n</table>\n</div>"
     },
     "execution_count": 22,
     "metadata": {},
     "output_type": "execute_result"
    }
   ],
   "source": [
    "# using crosstab to get the frequency/count of each category in cylinders per the Origin\n",
    "new_df = pd.crosstab(df['Origin'], df['Cylinders'])\n",
    "new_df"
   ],
   "metadata": {
    "collapsed": false,
    "ExecuteTime": {
     "end_time": "2023-11-25T20:35:49.035860300Z",
     "start_time": "2023-11-25T20:35:48.531028300Z"
    }
   },
   "id": "986345dedc07cf77"
  },
  {
   "cell_type": "code",
   "execution_count": 23,
   "outputs": [],
   "source": [
    "#new_df.idxmax()"
   ],
   "metadata": {
    "collapsed": false,
    "ExecuteTime": {
     "end_time": "2023-11-25T20:35:49.036862100Z",
     "start_time": "2023-11-25T20:35:48.565716300Z"
    }
   },
   "id": "600fe732a57922fb"
  },
  {
   "cell_type": "code",
   "execution_count": 24,
   "outputs": [
    {
     "data": {
      "text/plain": "Origin\nEurope    4\nJapan     4\nUS        8\ndtype: int64"
     },
     "execution_count": 24,
     "metadata": {},
     "output_type": "execute_result"
    }
   ],
   "source": [
    "#Using the idxmax() to find the highest value for each country per row\n",
    "index = new_df.idxmax(axis=1)\n",
    "index"
   ],
   "metadata": {
    "collapsed": false,
    "ExecuteTime": {
     "end_time": "2023-11-25T20:35:49.038858100Z",
     "start_time": "2023-11-25T20:35:48.583399200Z"
    }
   },
   "id": "32a3711de56b7d90"
  },
  {
   "cell_type": "code",
   "execution_count": 25,
   "outputs": [
    {
     "data": {
      "text/plain": "Origin\nEurope     66\nJapan      69\nUS        108\ndtype: int64"
     },
     "execution_count": 25,
     "metadata": {},
     "output_type": "execute_result"
    }
   ],
   "source": [
    "value = new_df.max(axis=1)\n",
    "value"
   ],
   "metadata": {
    "collapsed": false,
    "ExecuteTime": {
     "end_time": "2023-11-25T20:35:49.074760500Z",
     "start_time": "2023-11-25T20:35:48.601297600Z"
    }
   },
   "id": "707231ad257df120"
  },
  {
   "cell_type": "code",
   "execution_count": 26,
   "outputs": [
    {
     "data": {
      "text/plain": "        Most Popular Cylinder Count  Count\nOrigin                                    \nEurope                            4     66\nJapan                             4     69\nUS                                8    108",
      "text/html": "<div>\n<style scoped>\n    .dataframe tbody tr th:only-of-type {\n        vertical-align: middle;\n    }\n\n    .dataframe tbody tr th {\n        vertical-align: top;\n    }\n\n    .dataframe thead th {\n        text-align: right;\n    }\n</style>\n<table border=\"1\" class=\"dataframe\">\n  <thead>\n    <tr style=\"text-align: right;\">\n      <th></th>\n      <th>Most Popular Cylinder Count</th>\n      <th>Count</th>\n    </tr>\n    <tr>\n      <th>Origin</th>\n      <th></th>\n      <th></th>\n    </tr>\n  </thead>\n  <tbody>\n    <tr>\n      <th>Europe</th>\n      <td>4</td>\n      <td>66</td>\n    </tr>\n    <tr>\n      <th>Japan</th>\n      <td>4</td>\n      <td>69</td>\n    </tr>\n    <tr>\n      <th>US</th>\n      <td>8</td>\n      <td>108</td>\n    </tr>\n  </tbody>\n</table>\n</div>"
     },
     "execution_count": 26,
     "metadata": {},
     "output_type": "execute_result"
    }
   ],
   "source": [
    "# Putting the results of the series in a new dataframe\n",
    "result = pd.DataFrame({'Most Popular Cylinder Count': index, 'Count': value})\n",
    "result"
   ],
   "metadata": {
    "collapsed": false,
    "ExecuteTime": {
     "end_time": "2023-11-25T20:35:49.076878300Z",
     "start_time": "2023-11-25T20:35:48.613233400Z"
    }
   },
   "id": "c7f8c94ab1c84c09"
  },
  {
   "cell_type": "code",
   "execution_count": 26,
   "outputs": [],
   "source": [],
   "metadata": {
    "collapsed": false,
    "ExecuteTime": {
     "end_time": "2023-11-25T20:35:49.077876200Z",
     "start_time": "2023-11-25T20:35:48.643088Z"
    }
   },
   "id": "1d1b492cb2c0f190"
  }
 ],
 "metadata": {
  "kernelspec": {
   "display_name": "Python 3",
   "language": "python",
   "name": "python3"
  },
  "language_info": {
   "codemirror_mode": {
    "name": "ipython",
    "version": 2
   },
   "file_extension": ".py",
   "mimetype": "text/x-python",
   "name": "python",
   "nbconvert_exporter": "python",
   "pygments_lexer": "ipython2",
   "version": "2.7.6"
  }
 },
 "nbformat": 4,
 "nbformat_minor": 5
}
